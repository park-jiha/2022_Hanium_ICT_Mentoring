{
 "cells": [
  {
   "cell_type": "code",
   "execution_count": 23,
   "id": "ab86ae40",
   "metadata": {},
   "outputs": [
    {
     "name": "stderr",
     "output_type": "stream",
     "text": [
      "YOLOv5  2022-7-20 Python-3.8.13 torch-1.12.0 CUDA:0 (NVIDIA GeForce GTX 1060 3GB, 3072MiB)\n",
      "\n",
      "Fusing layers... \n",
      "YOLOv5x summary: 444 layers, 86173414 parameters, 0 gradients, 203.8 GFLOPs\n",
      "Adding AutoShape... \n"
     ]
    }
   ],
   "source": [
    "import cv2\n",
    "import numpy as np\n",
    "import time\n",
    "import math\n",
    "import sys\n",
    "import torch\n",
    "from time import time\n",
    "\n",
    "video_path = './video/test_multi.mp4'\n",
    "\n",
    "# pretrained (사람만 검출 - 0번째 class 번호)\n",
    "# model = torch.hub.load('ultralytics/yolov5', 'yolov5s', pretrained=True)\n",
    "# model.classes = [0]\n",
    "# custom 학습\n",
    "model = torch.hub.load('.', 'custom', path='./runs/train/exp2/weights/best.pt', source='local')\n",
    "\n",
    "# Video input\n",
    "cap = cv2.VideoCapture(video_path)\n",
    "\n",
    "if not cap.isOpened:\n",
    "    print('--(!)Error opening video capture')\n",
    "    sys.exit(1)\n",
    "\n",
    "while cap.isOpened():\n",
    "    success, img = cap.read()\n",
    "    if not success:\n",
    "        print(\"Ignoring empty camera frame.\")\n",
    "        break\n",
    "    \n",
    "    results = model(img)\n",
    "    name = results.pandas().xyxy[0].name[0]\n",
    "    \n",
    "    # bounding box\n",
    "    for k in range(len(results.xyxy[0])):\n",
    "        conf = results.pandas().xyxy[0].confidence[0]*100\n",
    "        label = name + \": {:.2f}\".format(conf)\n",
    "        color_g = (0, 255, 0)\n",
    "        cv2.rectangle(img, (int(results.pandas().xyxy[0].xmin[0]), int(results.pandas().xyxy[0].ymin[0])), (int(results.pandas().xyxy[0].xmax[0]), int(results.pandas().xyxy[0].ymax[0])), color_g, 2)\n",
    "        cv2.putText(img, label, (int(results.pandas().xyxy[0].xmin[0]), int(results.pandas().xyxy[0].ymin[0] - 5)), cv2.FONT_HERSHEY_DUPLEX, 1, color_g, 1)\n",
    "\n",
    "    #결과 show\n",
    "    cv2.imshow('Detection', img)\n",
    "\n",
    "    key_pressed = cv2.waitKey(1) & 0xFF\n",
    "    if key_pressed == ord('q') or key_pressed == 27:\n",
    "        break\n",
    "\n",
    "cap.release()\n",
    "cv2.destroyAllWindows()"
   ]
  }
 ],
 "metadata": {
  "kernelspec": {
   "display_name": "yolov5",
   "language": "python",
   "name": "yolov5"
  },
  "language_info": {
   "codemirror_mode": {
    "name": "ipython",
    "version": 3
   },
   "file_extension": ".py",
   "mimetype": "text/x-python",
   "name": "python",
   "nbconvert_exporter": "python",
   "pygments_lexer": "ipython3",
   "version": "3.8.13"
  }
 },
 "nbformat": 4,
 "nbformat_minor": 5
}
