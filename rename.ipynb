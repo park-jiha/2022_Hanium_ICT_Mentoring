{
 "cells": [
  {
   "cell_type": "code",
   "execution_count": 11,
   "id": "7e2814fd",
   "metadata": {},
   "outputs": [
    {
     "data": {
      "text/plain": [
       "['train_101.json',\n",
       " 'train_102.json',\n",
       " 'train_103.json',\n",
       " 'train_104.json',\n",
       " 'train_105.json',\n",
       " 'train_106.json',\n",
       " 'train_107.json',\n",
       " 'train_108.json',\n",
       " 'train_109.json',\n",
       " 'train_110.json',\n",
       " 'train_111.json',\n",
       " 'train_112.json',\n",
       " 'train_113.json',\n",
       " 'train_114.json',\n",
       " 'train_115.json',\n",
       " 'train_116.json',\n",
       " 'train_117.json',\n",
       " 'train_118.json',\n",
       " 'train_119.json',\n",
       " 'train_120.json']"
      ]
     },
     "execution_count": 11,
     "metadata": {},
     "output_type": "execute_result"
    }
   ],
   "source": [
    "import os\n",
    "\n",
    "# 주어진 디렉토리에 있는 항목들의 이름을 담고 있는 리스트를 반환합니다.\n",
    "# 리스트는 임의의 순서대로 나열됩니다.\n",
    "file_path = 'train'\n",
    "file_names = os.listdir(file_path)\n",
    "file_names\n",
    "\n",
    "# >>> ['photo-1577055209976-ddae617a8023.jpg', 'photo-1577255714682-69db9b067fda.jpg', ..., 'photo-1579122549707-440e9edc4a6d.jpg']\n",
    "\n"
   ]
  },
  {
   "cell_type": "code",
   "execution_count": 10,
   "id": "cbde463d",
   "metadata": {},
   "outputs": [],
   "source": [
    "i = 101\n",
    "for name in file_names:\n",
    "    src = os.path.join(file_path, name)\n",
    "    dst = 'train_' + str(i) + '.json'\n",
    "    dst = os.path.join(file_path, dst)\n",
    "    os.rename(src, dst)\n",
    "    i += 1"
   ]
  }
 ],
 "metadata": {
  "kernelspec": {
   "display_name": "Python 3 (ipykernel)",
   "language": "python",
   "name": "python3"
  },
  "language_info": {
   "codemirror_mode": {
    "name": "ipython",
    "version": 3
   },
   "file_extension": ".py",
   "mimetype": "text/x-python",
   "name": "python",
   "nbconvert_exporter": "python",
   "pygments_lexer": "ipython3",
   "version": "3.8.8"
  }
 },
 "nbformat": 4,
 "nbformat_minor": 5
}
