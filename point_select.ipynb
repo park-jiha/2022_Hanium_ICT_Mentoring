{
 "cells": [
  {
   "cell_type": "code",
   "execution_count": 2,
   "id": "d413a9fb",
   "metadata": {},
   "outputs": [
    {
     "name": "stdout",
     "output_type": "stream",
     "text": [
      "{'ROI': [[4, 946], [1084, 460], [1268, 590], [500, 1078], [8, 1076]]}\n"
     ]
    }
   ],
   "source": [
    "import cv2\n",
    "import imutils\n",
    "import numpy as np\n",
    "import joblib\n",
    "\n",
    "pts = []\n",
    "\n",
    "def draw_roi(event, x, y, flags, param):\n",
    "    img2 = img.copy()\n",
    "\n",
    "    if event == cv2.EVENT_LBUTTONDOWN:\n",
    "        pts.append([x, y])\n",
    "\n",
    "    if event == cv2.EVENT_RBUTTONDOWN: # 오른쪽 마우스 누르면 이전 취소\n",
    "        pts.pop()\n",
    "\n",
    "    if event == cv2.EVENT_MBUTTONDOWN: # 휠 누르면 찍은 ROI 나옴\n",
    "        mask = np.zeros(img.shape, np.uint8)\n",
    "        points = np.array(pts, np.int32)\n",
    "        points = points.reshape((-1, 1, 2))\n",
    "\n",
    "        mask = cv2.polylines(mask, [points], True, (255, 255, 255), 2)\n",
    "        mask2 = cv2.fillPoly(mask.copy(), [points], (255, 255, 255))\n",
    "        #mask3 = cv2.fillPoly(mask.copy(), [points], (0, 255, 0))\n",
    "\n",
    "        #show_image = cv2.addWeighted(src1=img, alpha=0.8, src2=mask3, beta=0.2, gamma=0)\n",
    "\n",
    "        #cv2.imshow(\"mask\", mask2)\n",
    "        #cv2.imshow(\"show_img\", show_image)\n",
    "\n",
    "        ROI = cv2.bitwise_and(mask2, img)\n",
    "        cv2.imshow(\"ROI\", ROI)\n",
    "        cv2.waitKey(0)\n",
    "\n",
    "    if len(pts) > 0:\n",
    "        cv2.circle(img2, pts[-1], 3, (0, 0, 255), -1)\n",
    "\n",
    "    if len(pts) > 1:\n",
    "        for i in range(len(pts) - 1):\n",
    "            cv2.circle(img2, pts[i], 5, (0, 0, 255), -1)\n",
    "            cv2.line(img=img2, pt1=pts[i], pt2=pts[i + 1], color=(255, 0, 0), thickness=2)\n",
    "\n",
    "    cv2.imshow('image', img2)\n",
    "\n",
    "img = cv2.imread(\"./test_14.jpg\")\n",
    "img = imutils.resize(img, width=960, height=540) # 원본 해상도가 너무 커서서 1/4로 줄여 찍음, 좌표도 그만큼 곱하면 될듯\n",
    "cv2.namedWindow('image')\n",
    "cv2.setMouseCallback('image', draw_roi)\n",
    "\n",
    "while True:\n",
    "    key = cv2.waitKey(1) & 0xFF\n",
    "    if key == 27:\n",
    "        break\n",
    "    if key == ord(\"s\"): #s키 누르면 코드 멈추고 찍은 점 좌표 나옴\n",
    "        for i in range(len(pts)):\n",
    "            for j in range(2):\n",
    "                pts[i][j] = pts[i][j] * 2  # 아까 1/4로 줄여서 좌표 늘림\n",
    "        saved_data = {\n",
    "            \"ROI\": pts\n",
    "        } # 찍은 점의 좌표\n",
    "        print(saved_data)\n",
    "        break\n",
    "cv2.destroyAllWindows()"
   ]
  }
 ],
 "metadata": {
  "kernelspec": {
   "display_name": "Python 3 (ipykernel)",
   "language": "python",
   "name": "python3"
  },
  "language_info": {
   "codemirror_mode": {
    "name": "ipython",
    "version": 3
   },
   "file_extension": ".py",
   "mimetype": "text/x-python",
   "name": "python",
   "nbconvert_exporter": "python",
   "pygments_lexer": "ipython3",
   "version": "3.8.8"
  }
 },
 "nbformat": 4,
 "nbformat_minor": 5
}
