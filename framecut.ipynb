{
 "cells": [
  {
   "cell_type": "code",
   "execution_count": 6,
   "id": "0651a107",
   "metadata": {},
   "outputs": [
    {
     "name": "stdout",
     "output_type": "stream",
     "text": [
      "test_1.jpg\n",
      "test_2.jpg\n",
      "test_3.jpg\n",
      "test_4.jpg\n",
      "test_5.jpg\n",
      "test_6.jpg\n",
      "test_7.jpg\n",
      "test_8.jpg\n",
      "test_9.jpg\n",
      "test_10.jpg\n",
      "test_11.jpg\n",
      "test_12.jpg\n",
      "test_13.jpg\n",
      "test_14.jpg\n",
      "test_15.jpg\n",
      "test_16.jpg\n",
      "test_17.jpg\n",
      "test_18.jpg\n",
      "test_19.jpg\n",
      "test_20.jpg\n",
      "test_21.jpg\n",
      "test_22.jpg\n",
      "test_23.jpg\n",
      "test_24.jpg\n",
      "test_25.jpg\n",
      "test_26.jpg\n",
      "test_27.jpg\n",
      "test_28.jpg\n",
      "test_29.jpg\n",
      "test_30.jpg\n",
      "test_31.jpg\n",
      "test_32.jpg\n",
      "test_33.jpg\n",
      "test_34.jpg\n",
      "test_35.jpg\n",
      "test_36.jpg\n",
      "test_37.jpg\n",
      "test_38.jpg\n",
      "test_39.jpg\n",
      "test_40.jpg\n",
      "test_41.jpg\n",
      "test_42.jpg\n",
      "test_43.jpg\n",
      "test_44.jpg\n",
      "test_45.jpg\n",
      "test_46.jpg\n",
      "test_47.jpg\n"
     ]
    },
    {
     "ename": "error",
     "evalue": "OpenCV(4.5.3) C:\\Users\\runneradmin\\AppData\\Local\\Temp\\pip-req-build-u4kjpz2z\\opencv\\modules\\imgcodecs\\src\\loadsave.cpp:803: error: (-215:Assertion failed) !_img.empty() in function 'cv::imwrite'\n",
     "output_type": "error",
     "traceback": [
      "\u001b[1;31m---------------------------------------------------------------------------\u001b[0m",
      "\u001b[1;31merror\u001b[0m                                     Traceback (most recent call last)",
      "\u001b[1;32m~\\AppData\\Local\\Temp/ipykernel_20280/2252813905.py\u001b[0m in \u001b[0;36m<module>\u001b[1;34m\u001b[0m\n\u001b[0;32m      8\u001b[0m \u001b[1;32mwhile\u001b[0m \u001b[0msuccess\u001b[0m\u001b[1;33m:\u001b[0m\u001b[1;33m\u001b[0m\u001b[1;33m\u001b[0m\u001b[0m\n\u001b[0;32m      9\u001b[0m   \u001b[0msuccess\u001b[0m\u001b[1;33m,\u001b[0m\u001b[0mimage\u001b[0m \u001b[1;33m=\u001b[0m \u001b[0mvidcap\u001b[0m\u001b[1;33m.\u001b[0m\u001b[0mread\u001b[0m\u001b[1;33m(\u001b[0m\u001b[1;33m)\u001b[0m\u001b[1;33m\u001b[0m\u001b[1;33m\u001b[0m\u001b[0m\n\u001b[1;32m---> 10\u001b[1;33m   \u001b[0mcv2\u001b[0m\u001b[1;33m.\u001b[0m\u001b[0mimwrite\u001b[0m\u001b[1;33m(\u001b[0m\u001b[1;34m\"video/frame/navi_%d.jpg\"\u001b[0m \u001b[1;33m%\u001b[0m \u001b[0mcount\u001b[0m\u001b[1;33m,\u001b[0m \u001b[0mimage\u001b[0m\u001b[1;33m)\u001b[0m\u001b[1;33m\u001b[0m\u001b[1;33m\u001b[0m\u001b[0m\n\u001b[0m\u001b[0;32m     11\u001b[0m   \u001b[0mprint\u001b[0m\u001b[1;33m(\u001b[0m\u001b[1;34m\"test_%d.jpg\"\u001b[0m \u001b[1;33m%\u001b[0m \u001b[0mcount\u001b[0m\u001b[1;33m)\u001b[0m\u001b[1;33m\u001b[0m\u001b[1;33m\u001b[0m\u001b[0m\n\u001b[0;32m     12\u001b[0m \u001b[1;33m\u001b[0m\u001b[0m\n",
      "\u001b[1;31merror\u001b[0m: OpenCV(4.5.3) C:\\Users\\runneradmin\\AppData\\Local\\Temp\\pip-req-build-u4kjpz2z\\opencv\\modules\\imgcodecs\\src\\loadsave.cpp:803: error: (-215:Assertion failed) !_img.empty() in function 'cv::imwrite'\n"
     ]
    }
   ],
   "source": [
    "import cv2\n",
    "vidcap = cv2.VideoCapture('video/navi.mp4')\n",
    "success,image = vidcap.read()\n",
    "\n",
    "count = 1\n",
    "success = True\n",
    "\n",
    "while success:\n",
    "  success,image = vidcap.read()\n",
    "  cv2.imwrite(\"video/frame/navi_%d.jpg\" % count, image)\n",
    "  print(\"test_%d.jpg\" % count)\n",
    "  \n",
    "  if cv2.waitKey(10) == 27:                    \n",
    "      break\n",
    "  count += 1"
   ]
  },
  {
   "cell_type": "code",
   "execution_count": 2,
   "id": "343139e1",
   "metadata": {},
   "outputs": [
    {
     "name": "stdout",
     "output_type": "stream",
     "text": [
      "4.5.3\n"
     ]
    }
   ],
   "source": [
    "import cv2\n",
    "print(cv2.__version__)"
   ]
  }
 ],
 "metadata": {
  "kernelspec": {
   "display_name": "Python 3 (ipykernel)",
   "language": "python",
   "name": "python3"
  },
  "language_info": {
   "codemirror_mode": {
    "name": "ipython",
    "version": 3
   },
   "file_extension": ".py",
   "mimetype": "text/x-python",
   "name": "python",
   "nbconvert_exporter": "python",
   "pygments_lexer": "ipython3",
   "version": "3.8.8"
  }
 },
 "nbformat": 4,
 "nbformat_minor": 5
}
