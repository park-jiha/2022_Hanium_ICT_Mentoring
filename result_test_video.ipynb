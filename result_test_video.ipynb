{
 "cells": [
  {
   "cell_type": "code",
   "execution_count": 32,
   "id": "7af9b0a9",
   "metadata": {},
   "outputs": [
    {
     "name": "stderr",
     "output_type": "stream",
     "text": [
      "Using cache found in C:\\Users\\SDH-LAB/.cache\\torch\\hub\\ultralytics_yolov5_master\n",
      "YOLOv5  2022-7-22 Python-3.8.13 torch-1.12.0 CUDA:0 (NVIDIA GeForce GTX 1060 3GB, 3072MiB)\n",
      "\n",
      "Fusing layers... \n",
      "YOLOv5x summary: 444 layers, 86705005 parameters, 0 gradients\n",
      "Adding AutoShape... \n"
     ]
    }
   ],
   "source": [
    "import torch\n",
    "import cv2\n",
    "import numpy as np\n",
    "import pandas as pd\n",
    "\n",
    "# Model\n",
    "# model = torch.hub.load('.', 'custom', path='./runs/train/exp11/weights/best.pt', source='local')\n",
    "model = torch.hub.load('ultralytics/yolov5', 'yolov5x')\n",
    "\n",
    "video_path = './video/school_1.mp4'\n",
    "\n",
    "cap = cv2.VideoCapture(video_path)\n",
    "\n",
    "if not cap.isOpened:\n",
    "    print('--(!)Error opening video capture')\n",
    "    sys.exit(1)\n",
    "\n",
    "while cap.isOpened():\n",
    "    success, image = cap.read()\n",
    "    if not success:\n",
    "        print(\"Ignoring empty camera frame.\")\n",
    "        break\n",
    "        \n",
    "    # Inference\n",
    "    results = model(image)\n",
    "    \n",
    "#     print(results.pandas().xyxy[0])\n",
    "#     for k in range(len(results.xyxy[0])):\n",
    "#         print(results.pandas().xyxy[0].name[k])\n",
    "#     break\n",
    "\n",
    "    for k in range(len(results.xyxy[0])):\n",
    "        conf = results.pandas().xyxy[0].confidence[0]*100\n",
    "        if conf >= 50:\n",
    "            if results.pandas().xyxy[0].name[k] == 'person':\n",
    "                label = \"person: {:.2f}\".format(conf)\n",
    "                color_g = (0, 255, 0)\n",
    "                cv2.rectangle(image, (int(results.pandas().xyxy[0].xmin[k]), int(results.pandas().xyxy[0].ymin[k])), (int(results.pandas().xyxy[0].xmax[k]), int(results.pandas().xyxy[0].ymax[k])), color_g, 2)\n",
    "                cv2.putText(image, label, (int(results.pandas().xyxy[0].xmin[k]), int(results.pandas().xyxy[0].ymin[k] - 5)), cv2.FONT_HERSHEY_DUPLEX, 1, color_g, 1)\n",
    "            elif results.pandas().xyxy[0].name[k] == 'car':\n",
    "                label = \"car: {:.2f}\".format(conf)\n",
    "                color_y = (255, 255, 0)\n",
    "                cv2.rectangle(image, (int(results.pandas().xyxy[0].xmin[k]), int(results.pandas().xyxy[0].ymin[k])), (int(results.pandas().xyxy[0].xmax[k]), int(results.pandas().xyxy[0].ymax[k])), color_y, 2)\n",
    "                cv2.putText(image, label, (int(results.pandas().xyxy[0].xmin[k]), int(results.pandas().xyxy[0].ymin[k] - 5)), cv2.FONT_HERSHEY_DUPLEX, 1, color_y, 1)\n",
    "            elif results.pandas().xyxy[0].name[k] == 'bicycle':\n",
    "                label = \"bycycle: {:.2f}\".format(conf)\n",
    "                color_b = (0, 0, 255)\n",
    "                cv2.rectangle(image, (int(results.pandas().xyxy[0].xmin[k]), int(results.pandas().xyxy[0].ymin[k])), (int(results.pandas().xyxy[0].xmax[k]), int(results.pandas().xyxy[0].ymax[k])), color_b, 2)\n",
    "                cv2.putText(image, label, (int(results.pandas().xyxy[0].xmin[k]), int(results.pandas().xyxy[0].ymin[k] - 5)), cv2.FONT_HERSHEY_DUPLEX, 1, color_b, 1)\n",
    "            elif results.pandas().xyxy[0].name[k] == 'motorcycle':\n",
    "                label = \"motorcycle: {:.2f}\".format(conf)\n",
    "                color_p = (128, 0, 128)\n",
    "                cv2.rectangle(image, (int(results.pandas().xyxy[0].xmin[k]), int(results.pandas().xyxy[0].ymin[k])), (int(results.pandas().xyxy[0].xmax[k]), int(results.pandas().xyxy[0].ymax[k])), color_p, 2)\n",
    "                cv2.putText(image, label, (int(results.pandas().xyxy[0].xmin[k]), int(results.pandas().xyxy[0].ymin[k] - 5)), cv2.FONT_HERSHEY_DUPLEX, 1, color_p, 1)\n",
    "            else: continue\n",
    "    \n",
    "    \n",
    "    # Results\n",
    "    cv2.imshow('Detection', image)\n",
    "    \n",
    "    key_pressed = cv2.waitKey(1) & 0xFF\n",
    "    if key_pressed == ord('q') or key_pressed == 27:\n",
    "        break\n",
    "\n",
    "cap.release()\n",
    "cv2.destroyAllWindows()"
   ]
  },
  {
   "cell_type": "code",
   "execution_count": null,
   "id": "39f641c8",
   "metadata": {},
   "outputs": [],
   "source": [
    "cap.release()\n",
    "cv2.destroyAllWindows()"
   ]
  }
 ],
 "metadata": {
  "kernelspec": {
   "display_name": "yolov5",
   "language": "python",
   "name": "yolov5"
  },
  "language_info": {
   "codemirror_mode": {
    "name": "ipython",
    "version": 3
   },
   "file_extension": ".py",
   "mimetype": "text/x-python",
   "name": "python",
   "nbconvert_exporter": "python",
   "pygments_lexer": "ipython3",
   "version": "3.8.13"
  }
 },
 "nbformat": 4,
 "nbformat_minor": 5
}
