{
 "cells": [
  {
   "cell_type": "code",
   "execution_count": 11,
   "id": "7af9b0a9",
   "metadata": {},
   "outputs": [
    {
     "name": "stderr",
     "output_type": "stream",
     "text": [
      "Using cache found in C:\\Users\\SDH-LAB/.cache\\torch\\hub\\ultralytics_yolov5_master\n",
      "YOLOv5  2022-7-20 Python-3.8.13 torch-1.12.0 CUDA:0 (NVIDIA GeForce GTX 1060 3GB, 3072MiB)\n",
      "\n",
      "Fusing layers... \n",
      "YOLOv5x summary: 444 layers, 86705005 parameters, 0 gradients\n",
      "Adding AutoShape... \n"
     ]
    }
   ],
   "source": [
    "import torch\n",
    "\n",
    "# Model\n",
    "# model = torch.hub.load('.', 'custom', path='./runs/train/exp11/weights/best.pt', source='local')\n",
    "model = torch.hub.load('ultralytics/yolov5', 'yolov5x')\n",
    "\n",
    "# Images\n",
    "img = './video/train_5.jpg'\n",
    "\n",
    "# Inference\n",
    "results = model(img)\n",
    "\n",
    "# Results\n",
    "results.show()  # or .show(), .save(), .crop(), .pandas(), etc."
   ]
  },
  {
   "cell_type": "code",
   "execution_count": null,
   "id": "39f641c8",
   "metadata": {},
   "outputs": [],
   "source": []
  }
 ],
 "metadata": {
  "kernelspec": {
   "display_name": "yolov5",
   "language": "python",
   "name": "yolov5"
  },
  "language_info": {
   "codemirror_mode": {
    "name": "ipython",
    "version": 3
   },
   "file_extension": ".py",
   "mimetype": "text/x-python",
   "name": "python",
   "nbconvert_exporter": "python",
   "pygments_lexer": "ipython3",
   "version": "3.8.13"
  }
 },
 "nbformat": 4,
 "nbformat_minor": 5
}
