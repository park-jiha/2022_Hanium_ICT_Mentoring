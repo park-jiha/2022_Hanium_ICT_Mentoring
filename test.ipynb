{
 "cells": [
  {
   "cell_type": "code",
   "execution_count": 14,
   "id": "7fd9e2c8",
   "metadata": {},
   "outputs": [
    {
     "name": "stdout",
     "output_type": "stream",
     "text": [
      "[[-1.02324180e+01 -9.66125512e+01  3.71088613e+04]\n",
      " [ 2.18318626e+00 -2.49487913e+01 -1.06682612e+04]\n",
      " [-3.65919118e-03 -2.31359313e-02  1.00000000e+00]]\n"
     ]
    }
   ],
   "source": [
    "import cv2 as cv\n",
    "import numpy as np\n",
    "from PIL import Image\n",
    "\n",
    "#Read source image\n",
    "im = cv.imread('test_1.jpg')\n",
    "\n",
    "#Four corners of the book in source image\n",
    "x = np.array([[12, 1132, 1], [12, 2148, 1], [3836, 2156, 1], [3836, 888, 1], [2640, 736, 1], [2340, 520, 1], [2552, 508, 1], [2488, 428, 1],\n",
    "              [2200, 424, 1], [2036, 276, 1], [1892, 268, 1], [1896, 436, 1], [1596, 440, 1], [1588, 508, 1], [1896, 520, 1], [1908, 720, 1], [1428, 944, 1]])\n",
    "\n",
    "#Read destination image\n",
    "im_ = cv.imread('naver_map.png')\n",
    "\n",
    "#Four corners of the book in destination image\n",
    "x_ = np.array([[2912, 1464, 1], [3352, 1272, 1], [3380, 980, 1], [2792, 664, 1], [2504, 944, 1], [1956, 964, 1], [1752, 816, 1], [1388, 812, 1],\n",
    "               [1224, 952, 1], [956, 960, 1], [956, 1096, 1], [1304, 1132, 1], [1384, 1280, 1], [1664, 1244, 1], [1816, 1148, 1], [2496, 1100, 1], [2768, 1212, 1]])\n",
    "\n",
    "#Calculate Homography\n",
    "h_,status = cv.findHomography(x,x_)\n",
    "\n",
    "print(h_)\n",
    "\n",
    "im_out = cv.warpPerspective(im,h_,(im_.shape[1],im_.shape[0]))\n",
    "im_out = cv.resize(im_out, (int(im_out.shape[1]/4), int(im_out.shape[0]/4)))\n",
    "\n",
    "cv.imshow(\"test\", im_out)\n",
    "\n",
    "im_out = cv.resize(im_out, (int(im_out.shape[1]*4), int(im_out.shape[0]*4)))\n",
    "\n",
    "im_out = Image.fromarray(im_out)\n",
    "im_out.save(\"result.jpeg\")\n",
    "\n",
    "\n",
    "# 새로운 대응점 배열 생성\n",
    "\n",
    "new_pt = []\n",
    "\n",
    "for i in range(len(x)):\n",
    "    pt = x[i]\n",
    "\n",
    "    new_x = (h_[0][0]*pt[0] + h_[0][1]*pt[1] + h_[0][2]) / (h_[2][0]*pt[0] + h_[2][1]*pt[1] + 1)\n",
    "    new_y = (h_[1][0]*pt[0] + h_[1][1]*pt[1] + h_[1][2]) / (h_[2][0]*pt[0] + h_[2][1]*pt[1] + 1)\n",
    "    \n",
    "    new_pt.append(new_x)\n",
    "    new_pt.append(new_y)\n",
    "    \n",
    "new_pt = np.array(new_pt).reshape(-1,2)\n",
    "\n",
    "# print(\"new_pt\", new_pt)\n",
    "\n",
    "cv.waitKey()\n",
    "cv.destroyAllWindows()"
   ]
  },
  {
   "cell_type": "code",
   "execution_count": 18,
   "id": "3820aed9",
   "metadata": {},
   "outputs": [
    {
     "name": "stdout",
     "output_type": "stream",
     "text": [
      "경고! 차도 내 보행자가 위치합니다!\n"
     ]
    }
   ],
   "source": [
    "from shapely.geometry import Point, Polygon # 기하학적 물체 표현\n",
    "\n",
    "detec = [2621,1029]\n",
    "detec2 = [100,100]\n",
    "ROI_co = x #횡단보도 꼭지점\n",
    "\n",
    "ped1_co = Point(detec[0], detec[1])\n",
    "ped2_co = Point(detec2[0], detec2[1])\n",
    "ROI = Polygon(ROI_co)\n",
    "\n",
    "if ped1_co.within(ROI) == 1:\n",
    "    print(\"경고! 차도 내 보행자가 위치합니다!\")\n",
    "else:\n",
    "    print(\"차도 내 보행자가 없습니다.\")"
   ]
  },
  {
   "cell_type": "code",
   "execution_count": null,
   "id": "556146c0",
   "metadata": {},
   "outputs": [],
   "source": [
    "# 검출 결과 list\n",
    "ped = [[100,100], [600,600], [1100,1100], [1600,1600], [2100,2100]]\n",
    "veh = [[200,200], [700,700], [1200,1200], [1700,1700], [2200,2200]]\n",
    "moto = [[300,300], [800,800], [1300,300], [1800,1800], [2300,2300]]\n",
    "cycle = [[400,400], [900,200], [1400,1400], [1900,1900], [2400,2400]]\n",
    "kick = [[500,500], [1000,1000], [1500,1500], [2000,2000], [2500,2500]]\n",
    "\n"
   ]
  },
  {
   "cell_type": "code",
   "execution_count": 2,
   "id": "bb89eb49",
   "metadata": {},
   "outputs": [],
   "source": [
    "# 차도 범위 내 위치여부 판단\n",
    "\n",
    "# def is_inside(polygon, point):\n",
    "    \n",
    "#     def cross(p1, p2):\n",
    "#         x1, y1 = p1\n",
    "#         x2, y2 = p2\n",
    "        \n",
    "#         if y1 - y2 == 0:\n",
    "#             if y1 == point[1]:\n",
    "#                 if min(x1, x2) <= point[0] <= max(x1, x2):\n",
    "#                     return 1, True\n",
    "#             return 0, False\n",
    "        \n",
    "#         if x1 - x2 == 0:\n",
    "#             if min(y1, y2) <= point[1] <= max(y1, y2):\n",
    "#                 if point[0] <= max(x1, x2):\n",
    "#                     return 1, point[0] == max(x1, x2)\n",
    "#             return 0, False\n",
    "        \n",
    "#         a = (y1 - y2) / (x1 - x2)\n",
    "#         b = y1 - x1 * a\n",
    "#         x = (point[1] - b) / a\n",
    "#         if point[0] <= x:\n",
    "#             if min(y1, y2) <= point[1] <= max(y1, y2):\n",
    "#                 return 1, point[0] == x or point[1] in (y1, y2)\n",
    "#         return 0, False\n",
    "    \n",
    "#     cross_points = 0\n",
    "#     for x in range(len(polygon)):\n",
    "#         num, on_line = cross(polygon[x], polygon[x-1])\n",
    "#         if on_line:\n",
    "#             return True\n",
    "#         cross_points += num\n",
    "    \n",
    "#     return cross_points % 2"
   ]
  },
  {
   "cell_type": "code",
   "execution_count": 8,
   "id": "8ae558c8",
   "metadata": {},
   "outputs": [
    {
     "name": "stdout",
     "output_type": "stream",
     "text": [
      "경고! 차도 내 보행자가 위치합니다!\n"
     ]
    }
   ],
   "source": [
    "# 차도 내 보행자 위치 여부 출력\n",
    "\n",
    "# polygon = new_pt\n",
    "# point = [2621,1029] # 테스트할 좌표\n",
    "\n",
    "# if is_inside(polygon, point) == 1:\n",
    "#     print(\"경고! 차도 내 보행자가 위치합니다!\")\n",
    "# else:\n",
    "#     print(\"차도 내 보행자가 없습니다.\")"
   ]
  },
  {
   "cell_type": "code",
   "execution_count": 49,
   "id": "47fa426f",
   "metadata": {},
   "outputs": [],
   "source": [
    "cv.waitKey()\n",
    "cv.destroyAllWindows()"
   ]
  }
 ],
 "metadata": {
  "kernelspec": {
   "display_name": "Python 3 (ipykernel)",
   "language": "python",
   "name": "python3"
  },
  "language_info": {
   "codemirror_mode": {
    "name": "ipython",
    "version": 3
   },
   "file_extension": ".py",
   "mimetype": "text/x-python",
   "name": "python",
   "nbconvert_exporter": "python",
   "pygments_lexer": "ipython3",
   "version": "3.8.8"
  }
 },
 "nbformat": 4,
 "nbformat_minor": 5
}
